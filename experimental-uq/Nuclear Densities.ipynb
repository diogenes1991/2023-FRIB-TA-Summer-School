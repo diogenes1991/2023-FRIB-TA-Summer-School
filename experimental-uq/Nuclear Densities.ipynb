{
 "cells": [
  {
   "cell_type": "markdown",
   "id": "8e6823da",
   "metadata": {},
   "source": [
    "# Nuclear Densities Challenge"
   ]
  },
  {
   "cell_type": "markdown",
   "id": "8501161c",
   "metadata": {},
   "source": [
    "The purpose of this challenge is for you to be able to choose a new location for an experimental measurement on electron scattering using Bayesian methods.\n",
    "\n",
    "The details and data for this challenge are found here: https://journals.aps.org/prc/abstract/10.1103/PhysRevC.94.034316\n",
    "\n",
    "Your task is to:\n",
    "\n",
    "- Code the density $\\rho(r)$ and form factor $f(q)$ (Eqs. 3 and 4) as a function of r and q respectively, and the two parameters \"a\" and \"c\".\n",
    "- Write down your prior and likelihood function for two given measurement in the form factor F(q). For the \"y\" values of the measurements use values produced by your model for the parameters $c=6.7$ and $a=0.5$ fm. Assume Gaussian errors of $0.005$. For the prior see Table I. \n",
    "- Fix the first q value to $q_1=0.2\\ fm^{-1}$. Perform the Metropolis sampling of the posterior for $c$ and $a$ and calculate the variability of your prediction $F(q)$ (See Fig. 2) as a function of $q$ and select the location for the new measurement $q_2$ that maximizes the variability.\n",
    "- Compare the posterior distributions with a single $q_1$ and the pair $\\{q_1,q_2\\}$. Compare your results to Figure 1 and 3. \n",
    "- Make a uncertainty band prediction for the density $\\rho(r)$ from your posterior samples. Compare to Figure 4.\n",
    "- What would happen if you use a different utility function? For example the total uncertainty in the radius R? What if we want to add even more measuring locations?\n"
   ]
  },
  {
   "cell_type": "code",
   "execution_count": null,
   "id": "a42eaf27",
   "metadata": {},
   "outputs": [],
   "source": [
    "#Smart code goes here... "
   ]
  }
 ],
 "metadata": {
  "kernelspec": {
   "display_name": "Python 3 (ipykernel)",
   "language": "python",
   "name": "python3"
  },
  "language_info": {
   "codemirror_mode": {
    "name": "ipython",
    "version": 3
   },
   "file_extension": ".py",
   "mimetype": "text/x-python",
   "name": "python",
   "nbconvert_exporter": "python",
   "pygments_lexer": "ipython3",
   "version": "3.10.6"
  }
 },
 "nbformat": 4,
 "nbformat_minor": 5
}
